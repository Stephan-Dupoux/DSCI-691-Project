{
 "cells": [
  {
   "cell_type": "markdown",
   "metadata": {},
   "source": [
    "## Mining ADE from English Tweets\n",
    "### Task 1a - Classification\n",
    "*GOAL: Create a baseline model for classification*  \n",
    "*CLASSIFY IF A DRUG EVENT IS PRESENT IN A TWEET - (`ADE`/`NoADE`)*\n",
    "### Baseline Models:  \n",
    "1. Logistic Regression\n",
    "2. TF-IDF encoding, SVM classifier\n",
    "3. GloVe embedding transformation, SVM classifier"
   ]
  },
  {
   "cell_type": "markdown",
   "metadata": {},
   "source": [
    "#### Libraries"
   ]
  },
  {
   "cell_type": "code",
   "execution_count": 1,
   "metadata": {},
   "outputs": [],
   "source": [
    "import re\n",
    "import pandas as pd\n",
    "import numpy as np\n",
    "from sklearn import metrics\n",
    "from sklearn.model_selection import StratifiedShuffleSplit\n",
    "from sklearn.linear_model import LogisticRegression\n",
    "from sklearn.svm import SVC\n",
    "from sklearn.metrics import precision_recall_fscore_support\n",
    "from sklearn.metrics import roc_auc_score\n",
    "from sklearn.model_selection import GridSearchCV"
   ]
  },
  {
   "cell_type": "markdown",
   "metadata": {},
   "source": [
    "#### Import Data"
   ]
  },
  {
   "cell_type": "code",
   "execution_count": 54,
   "metadata": {},
   "outputs": [
    {
     "name": "stdout",
     "output_type": "stream",
     "text": [
      "(17120, 2)\n",
      "(17385, 2)\n"
     ]
    }
   ],
   "source": [
    "tweets = pd.read_csv('../data/training/tweets.tsv', sep='\\t', header=None, names=['tweet_id', 'tweet'])\n",
    "classes = pd.read_csv('../data/training/class.tsv', sep='\\t', header=0)\n",
    "\n",
    "print(tweets.shape)\n",
    "print(classes.shape)"
   ]
  },
  {
   "cell_type": "markdown",
   "metadata": {},
   "source": [
    "**Pre-processing**"
   ]
  },
  {
   "cell_type": "code",
   "execution_count": 58,
   "metadata": {},
   "outputs": [],
   "source": [
    "# there are more classses (n=17,385) than tweets(n=17,120)\n",
    "data = pd.merge(tweets, classes, how='left')\n",
    "\n",
    "# 1.1. Remove '@USER' and any proceeding '_' from tweet variable in dataframe\n",
    "# data = data.replace(r'@\\w+\\s', '', regex=True)\n",
    "\n",
    "# # remove emojis\n",
    "# data = data.encode('ascii', errors='ignore').decode('utf8').strip()\n"
   ]
  },
  {
   "cell_type": "markdown",
   "metadata": {},
   "source": [
    "Cleaning function"
   ]
  },
  {
   "cell_type": "code",
   "execution_count": 60,
   "metadata": {},
   "outputs": [],
   "source": [
    "def clean_tweets(tweet, remove_stopwords = True):\n",
    "    # clean\n",
    "    tweet = tweet.lower().strip()\n",
    "    # remove user mentions\n",
    "    tweet = re.sub(r'@\\w+\\s', '', tweet)\n",
    "    # remove any emoji\n",
    "    tweet = tweet.encode('ascii', errors='ignore').decode('utf8').strip()\n",
    "    # stopwords\n",
    "    if remove_stopwords:\n",
    "        tweet = ' '.join([word for word in tweet.split() if word not in stop_words])\n",
    "    return tweet"
   ]
  },
  {
   "cell_type": "code",
   "execution_count": 63,
   "metadata": {},
   "outputs": [],
   "source": [
    "from nltk.corpus import stopwords\n",
    "stop_words = stopwords.words('english')"
   ]
  },
  {
   "cell_type": "code",
   "execution_count": 64,
   "metadata": {},
   "outputs": [],
   "source": [
    "# apply clean_tweets to the tweet column\n",
    "data['tweet'] = data['tweet'].apply(clean_tweets)"
   ]
  },
  {
   "cell_type": "code",
   "execution_count": 65,
   "metadata": {},
   "outputs": [
    {
     "name": "stdout",
     "output_type": "stream",
     "text": [
      "                    tweet_id  \\\n",
      "0  SMM4H2022qLUQBRHYD1Z3P0Bw   \n",
      "1  SMM4H2022Y7dIrCNzlZ6OHWmY   \n",
      "2  SMM4H2022YDKxa7o2NC3erEdl   \n",
      "3  SMM4H2022qovo6eqwcAGzSMC1   \n",
      "4  SMM4H2022Bz5GaKU5KUEK9qDC   \n",
      "\n",
      "                                               tweet  label  \n",
      "0  knowledge power!levaquin antibiotic interacts ...      0  \n",
      "1  methylpred, glatiramer acetate, interferon alp...      0  \n",
      "2                             // .... cymbalta help.      0  \n",
      "3        think imodium works . full stop. #allegedly      0  \n",
      "4  meanwhile, get flavorless gelatin lamotrigine....      0  \n"
     ]
    }
   ],
   "source": [
    "# other checks\n",
    "# are there duplicates?\n",
    "np.sum(data.duplicated()) \n",
    "# NO!\n",
    "# are there missing values?\n",
    "data.isnull().sum()\n",
    "# no missing values!\n",
    "\n",
    "# convert label to binary\n",
    "data = data.replace(['NoADE', 'ADE'], [0, 1])\n",
    "\n",
    "print(data.head())"
   ]
  },
  {
   "cell_type": "markdown",
   "metadata": {},
   "source": [
    "**Data split**"
   ]
  },
  {
   "cell_type": "code",
   "execution_count": 66,
   "metadata": {},
   "outputs": [
    {
     "name": "stdout",
     "output_type": "stream",
     "text": [
      "Train index: [ 3360  9091  6988 ...   910 12559   444] Test index: [ 5122  1796   298 ...  1025  2309 14625]\n"
     ]
    }
   ],
   "source": [
    "# use stratified sampling to balance the classes\n",
    "strat_split = StratifiedShuffleSplit(n_splits=1, test_size=0.2, random_state=691)\n",
    "X = data['tweet'].to_numpy()\n",
    "y = data['label'].to_numpy()\n",
    "\n",
    "for train_index, test_index in strat_split.split(X, y):\n",
    "    print(f\"Train index: {train_index}\", f\"Test index: {test_index}\")\n",
    "    X_train, X_test = X[train_index], X[test_index]\n",
    "    y_train, y_test = y[train_index], y[test_index]\n"
   ]
  },
  {
   "cell_type": "markdown",
   "metadata": {},
   "source": [
    "**EDA of splits**"
   ]
  },
  {
   "cell_type": "code",
   "execution_count": 67,
   "metadata": {},
   "outputs": [
    {
     "data": {
      "text/plain": [
       "label\n",
       "0    15909\n",
       "1     1211\n",
       "dtype: int64"
      ]
     },
     "execution_count": 67,
     "metadata": {},
     "output_type": "execute_result"
    }
   ],
   "source": [
    "# 3. EDA\n",
    "# from pandas_profiling import ProfileReport\n",
    "# profile_train = pandas_profiling.ProfileReport(train, title=\"Pandas Profiling Report (Train)\")\n",
    "# profile_train.to_file(\"DSCI691-GRP-PICKLE_RICK/Task_1/subtask_1a/profile_train.html\")\n",
    "# check for class imbalance\n",
    "data.groupby('label').size()"
   ]
  },
  {
   "cell_type": "markdown",
   "metadata": {},
   "source": [
    "Notes:\n",
    "- There is a class imbalance in the outcome variable \"class\"\n",
    "- Only 7.2% of the tweets are labeled as \"NoADE\"\n",
    "- see report for more details\n",
    "- suggestion from jake (05/26): keep data as is"
   ]
  },
  {
   "cell_type": "code",
   "execution_count": 8,
   "metadata": {},
   "outputs": [
    {
     "data": {
      "image/png": "[encoded data removed]",
      "text/plain": [
       "<Figure size 432x288 with 1 Axes>"
      ]
     },
     "metadata": {
      "needs_background": "light"
     },
     "output_type": "display_data"
    }
   ],
   "source": [
    "\n",
    "# visualize the distribution of y_train data\n",
    "import matplotlib.pyplot as plt\n",
    "ys = pd.Series(y_train)\n",
    "ys.value_counts().plot(kind='bar')\n",
    "plt.show()"
   ]
  },
  {
   "cell_type": "code",
   "execution_count": 9,
   "metadata": {},
   "outputs": [
    {
     "data": {
      "image/png": "[encoded data removed]",
      "text/plain": [
       "<Figure size 432x288 with 1 Axes>"
      ]
     },
     "metadata": {
      "needs_background": "light"
     },
     "output_type": "display_data"
    }
   ],
   "source": [
    "# test data\n",
    "ys2 = pd.Series(y_test)\n",
    "ys2.value_counts().plot(kind='bar')\n",
    "plt.show()"
   ]
  },
  {
   "cell_type": "markdown",
   "metadata": {},
   "source": [
    "**Text representation**"
   ]
  },
  {
   "cell_type": "code",
   "execution_count": 68,
   "metadata": {},
   "outputs": [
    {
     "name": "stdout",
     "output_type": "stream",
     "text": [
      "(13696, 19552)\n",
      "(3424, 19552)\n"
     ]
    }
   ],
   "source": [
    "# convert tweets to matrix of word counts and remove stop words\n",
    "from sklearn.feature_extraction.text import CountVectorizer\n",
    "\n",
    "countvec = CountVectorizer(stop_words='english')\n",
    "\n",
    "# normalise count matrix to decrease the effect of word frequencies\n",
    "from sklearn.feature_extraction.text import TfidfTransformer\n",
    "\n",
    "tfidf = TfidfTransformer()\n",
    "\n",
    "# vectorize and transform train and test data\n",
    "train_transformed = tfidf.fit_transform(countvec.fit_transform(X_train))\n",
    "test_transformed = tfidf.transform(countvec.transform(X_test))\n",
    "\n",
    "print(train_transformed.shape)\n",
    "print(test_transformed.shape)"
   ]
  },
  {
   "cell_type": "markdown",
   "metadata": {},
   "source": [
    "### 1. Logistic Regression Model"
   ]
  },
  {
   "cell_type": "code",
   "execution_count": 69,
   "metadata": {},
   "outputs": [
    {
     "data": {
      "text/plain": [
       "array([[2908,  274],\n",
       "       [  73,  169]])"
      ]
     },
     "execution_count": 69,
     "metadata": {},
     "output_type": "execute_result"
    }
   ],
   "source": [
    "# course notes uses the 'liblinear' solver however sklearn uses the 'lbfgs' solver as default\n",
    "log_reg = LogisticRegression(solver='lbfgs', random_state=691, class_weight='balanced')\n",
    "\n",
    "# fit\n",
    "log_reg.fit(train_transformed, y_train)\n",
    "y_pred = log_reg.predict(test_transformed)\n",
    "\n",
    "# confusion matrix\n",
    "from sklearn.metrics import confusion_matrix\n",
    "mat = confusion_matrix(y_test, y_pred)\n",
    "mat"
   ]
  },
  {
   "cell_type": "code",
   "execution_count": 70,
   "metadata": {},
   "outputs": [
    {
     "name": "stdout",
     "output_type": "stream",
     "text": [
      "Logistic Regression:\n",
      "AUC: 0.8061188711294419\n",
      "Precision: 0.38\n",
      "Recall: 0.70\n",
      "F1 Score: 0.49\n"
     ]
    }
   ],
   "source": [
    "# print results\n",
    "print(f\"Logistic Regression:\")\n",
    "print(f\"AUC: {roc_auc_score(y_test, y_pred)}\")  #0.806\n",
    "print(f\"Precision: {precision_recall_fscore_support(y_test, y_pred, average='binary', pos_label=1)[0]:.2f}\") # 0.38\n",
    "print(f\"Recall: {precision_recall_fscore_support(y_test, y_pred, average='binary', pos_label=1)[1]:.2f}\") # 0.70\n",
    "print(f\"F1 Score: {precision_recall_fscore_support(y_test, y_pred, average='binary', pos_label=1)[2]:.2f}\") # 0.49\n"
   ]
  },
  {
   "cell_type": "markdown",
   "metadata": {},
   "source": [
    "### 2. SVM"
   ]
  },
  {
   "cell_type": "code",
   "execution_count": 71,
   "metadata": {},
   "outputs": [],
   "source": [
    "# standard SVM classifier with TF-IDF features\n",
    "# linear kernel\n",
    "sv_m = SVC(kernel='linear', class_weight='balanced', random_state=691)\n",
    "# fit\n",
    "sv_m.fit(train_transformed, y_train)\n",
    "y_pred_sv = sv_m.predict(test_transformed)"
   ]
  },
  {
   "cell_type": "code",
   "execution_count": 72,
   "metadata": {},
   "outputs": [
    {
     "name": "stdout",
     "output_type": "stream",
     "text": [
      "SVM:\n",
      "AUC: 0.7717507051545107\n",
      "Precision: 0.47\n",
      "Recall: 0.60\n",
      "F1 Score: 0.52\n"
     ]
    }
   ],
   "source": [
    "# print results\n",
    "print(f\"SVM:\")\n",
    "print(f\"AUC: {roc_auc_score(y_test, y_pred_sv)}\")\n",
    "print(f\"Precision: {precision_recall_fscore_support(y_test, y_pred_sv, average='binary', pos_label=1)[0]:.2f}\")\n",
    "print(f\"Recall: {precision_recall_fscore_support(y_test, y_pred_sv, average='binary', pos_label=1)[1]:.2f}\")\n",
    "print(f\"F1 Score: {precision_recall_fscore_support(y_test, y_pred_sv, average='binary', pos_label=1)[2]:.2f}\")"
   ]
  },
  {
   "cell_type": "code",
   "execution_count": 96,
   "metadata": {},
   "outputs": [],
   "source": [
    "# SVM with grid search\n",
    "# define the parameter grid\n",
    "param_grid = {'kernel':['linear'], 'C' : [0.1, 1, 10, 100], 'gamma': [1, .01, 'auto', 'scale']}\n",
    "estimator = SVC(class_weight='balanced', random_state=691)\n",
    "clf = GridSearchCV(estimator, param_grid, cv=5)\n",
    "# fit\n",
    "clf.fit(train_transformed, y_train)\n",
    "y_pred_gs = clf.predict(test_transformed)"
   ]
  },
  {
   "cell_type": "code",
   "execution_count": 97,
   "metadata": {},
   "outputs": [
    {
     "data": {
      "text/plain": [
       "array([[3068,  114],\n",
       "       [ 134,  108]])"
      ]
     },
     "execution_count": 97,
     "metadata": {},
     "output_type": "execute_result"
    }
   ],
   "source": [
    "confusion_matrix(y_test, y_pred_gs)"
   ]
  },
  {
   "cell_type": "code",
   "execution_count": 98,
   "metadata": {},
   "outputs": [
    {
     "name": "stdout",
     "output_type": "stream",
     "text": [
      "SVM with grid search + 5 cv:\n",
      "              precision    recall  f1-score   support\n",
      "\n",
      "           0       0.96      0.96      0.96      3182\n",
      "           1       0.49      0.45      0.47       242\n",
      "\n",
      "    accuracy                           0.93      3424\n",
      "   macro avg       0.72      0.71      0.71      3424\n",
      "weighted avg       0.92      0.93      0.93      3424\n",
      "\n"
     ]
    }
   ],
   "source": [
    "print(f\"SVM with grid search + 5 cv:\")\n",
    "print(metrics.classification_report(y_test, y_pred_gs))"
   ]
  },
  {
   "cell_type": "markdown",
   "metadata": {},
   "source": [
    "### 3. SVM with pre-trained GloVe\n",
    "Transfer learning  \n",
    "Source for [GloVe Twitter](https://nlp.stanford.edu/projects/glove/)  \n",
    "\n"
   ]
  },
  {
   "cell_type": "code",
   "execution_count": null,
   "metadata": {},
   "outputs": [],
   "source": [
    "# GloVe Twitter embeddings - 100-dimensional embeddings for each word\n",
    "# 1. convert GloVe format to word2vec format\n",
    "from gensim.scripts.glove2word2vec import glove2word2vec\n",
    "# note: fill too large for GH\n",
    "# glove_input_file = 'DSCI691-GRP-PICKLE_RICK/Project/glove.twitter.27B.100d.txt'\n",
    "# word2vec_output_file = 'DSCI691-GRP-PICKLE_RICK/Project/glove.twitter.27B.100d.txt.word2vec'\n",
    "# glove2word2vec(glove_input_file, word2vec_output_file) "
   ]
  },
  {
   "cell_type": "code",
   "execution_count": 31,
   "metadata": {},
   "outputs": [
    {
     "data": {
      "text/plain": [
       "[('drugs', 0.8083562254905701),\n",
       " ('marijuana', 0.7322571873664856),\n",
       " ('cocaine', 0.7105314135551453),\n",
       " ('addiction', 0.6785678863525391),\n",
       " ('dealers', 0.6764513850212097),\n",
       " ('heroin', 0.6691657900810242),\n",
       " ('meth', 0.6684464812278748),\n",
       " ('dealer', 0.6547229886054993),\n",
       " ('pharmacy', 0.6478521823883057),\n",
       " ('illegal', 0.6464824080467224)]"
      ]
     },
     "execution_count": 31,
     "metadata": {},
     "output_type": "execute_result"
    }
   ],
   "source": [
    "# 2. build a baseline word2vec model\n",
    "# load GloVe word vectors\n",
    "filepath = '../../../Drexel/spring_22/DSCI691/DSCI691-GRP-PICKLE_RICK/Project/glove.twitter.27B/glove.twitter.27B.100d.txt.word2vec'\n",
    "from gensim.models import KeyedVectors\n",
    "glove_vec = KeyedVectors.load_word2vec_format(filepath, binary=False)   \n",
    "glove_vec.most_similar('drug')"
   ]
  },
  {
   "cell_type": "code",
   "execution_count": 33,
   "metadata": {},
   "outputs": [
    {
     "name": "stdout",
     "output_type": "stream",
     "text": [
      "[['knowledge', 'is', 'powerlevaquin', 'antibiotic', 'interacts', 'with', 'the', 'medication', 'seroquel', 'and', 'can', 'cause', 'heart', 'arrthymiaslearnt', 'something', 'new', 'today', 'yes'], ['methylpred', 'glatiramer', 'acetate', 'interferon', 'alpha', 'n', 'beta', 'baclofen', 'natalizumabwhat', 'am', 'i', 'thinking'], ['cymbalta', 'can', 'help'], ['I', 'dont', 'think', 'Imodium', 'works', 'Full', 'stop', 'allegedly'], ['Meanwhile', 'all', 'I', 'get', 'is', 'flavorless', 'gelatin', 'lamotrigine', 'Fuck', 'This']]\n"
     ]
    }
   ],
   "source": [
    "# create baseline word2vec model with tweet data\n",
    "# input: list of tokenized tweets\n",
    "tweets_ls = []\n",
    "for tweet in data['tweet']:\n",
    "    tweets_ls.append(tweet.split())\n",
    "    \n",
    "print(tweets_ls[:5])"
   ]
  },
  {
   "cell_type": "code",
   "execution_count": 39,
   "metadata": {},
   "outputs": [
    {
     "data": {
      "text/plain": [
       "17120"
      ]
     },
     "execution_count": 39,
     "metadata": {},
     "output_type": "execute_result"
    }
   ],
   "source": [
    "# Apply word2vec transformation from GloVe pre-trained word embedding\n",
    "import gensim.models as gm\n",
    "# `workers` is the number of cores to use and does not work without Cython\n",
    "import Cython\n",
    "base_model = gm.Word2Vec(tweets_ls, vector_size=200, min_count=1, workers=4)\n",
    "# ran in 1.4 seconds\n",
    "base_model.build_vocab(tweets_ls)\n",
    "total = base_model.corpus_count\n",
    "total"
   ]
  },
  {
   "cell_type": "code",
   "execution_count": 35,
   "metadata": {},
   "outputs": [
    {
     "data": {
      "text/plain": [
       "5"
      ]
     },
     "execution_count": 35,
     "metadata": {},
     "output_type": "execute_result"
    }
   ],
   "source": [
    "base_model.epochs"
   ]
  },
  {
   "cell_type": "markdown",
   "metadata": {},
   "source": [
    "**Training**"
   ]
  },
  {
   "cell_type": "code",
   "execution_count": 38,
   "metadata": {},
   "outputs": [
    {
     "data": {
      "text/plain": [
       "[('of', 0.9951425194740295),\n",
       " ('in', 0.995005190372467),\n",
       " ('at', 0.9937447905540466),\n",
       " ('injection', 0.9935187101364136),\n",
       " ('returns', 0.9928048253059387),\n",
       " ('diazepam', 0.9920201897621155),\n",
       " ('18885205202', 0.9917005300521851),\n",
       " ('next', 0.991690993309021),\n",
       " ('shape', 0.9910983443260193),\n",
       " ('Reuters', 0.9903740882873535)]"
      ]
     },
     "execution_count": 38,
     "metadata": {},
     "output_type": "execute_result"
    }
   ],
   "source": [
    "# retrain base_model with GloVe vocaublary and starting weights\n",
    "base_model.build_vocab([glove_vec.index_to_key], update=True)\n",
    "# train on tweets\n",
    "base_model.train(tweets_ls, total_examples=total, epochs=base_model.epochs)\n",
    "# set of word vectors with glove weights and trained on tweets\n",
    "base_model_wv = base_model.wv\n",
    "base_model_wv.most_similar('drug')\n",
    "\n",
    "# this looks worse than the glove model"
   ]
  },
  {
   "cell_type": "code",
   "execution_count": null,
   "metadata": {},
   "outputs": [],
   "source": [
    "# function to transform tweets to word2vec vectors\n",
    "# accounts for dimensionality of vectors - if word not in base_model_wv, use 0 vector\n",
    "# uses the mean of all word vectors in tweet\n",
    "def tweet_to_wv(tweets, theModel):\n",
    "    # model = theModel\n",
    "    tweet_wv = []\n",
    "    for tweet in tweets:\n",
    "        tweet_vec = np.zeros(200)\n",
    "        for word in tweet:\n",
    "            if word in theModel.index_to_key:\n",
    "                tweet_vec += theModel[word]\n",
    "            else:\n",
    "                tweet_vec += np.zeros(200)\n",
    "        tweet_vec /= len(tweet)\n",
    "        tweet_wv.append(tweet_vec)\n",
    "    return tweet_wv\n",
    "\n",
    "# transform train and test data\n",
    "train_wv = tweet_to_wv(X_train, base_model_wv)\n",
    "test_wv = tweet_to_wv(X_test, base_model_wv)"
   ]
  },
  {
   "cell_type": "code",
   "execution_count": null,
   "metadata": {},
   "outputs": [],
   "source": [
    "# SVM with model trained on tweets\n",
    "# linear kernel\n",
    "svm_wv = SVC(kernel='linear', class_weight='balanced', random_state=691)\n",
    "# fit\n",
    "svm_wv.fit(train_wv, y_train)\n",
    "y_pred_wv = svm_wv.predict(test_wv)"
   ]
  },
  {
   "cell_type": "code",
   "execution_count": null,
   "metadata": {},
   "outputs": [],
   "source": [
    "# save model\n",
    "import pickle\n",
    "# filename = '../data/svm_wv.sav'\n",
    "# pickle.dump(svm_wv, open(filename, 'wb'))\n",
    "# open model\n",
    "pickle.load(open('../data/svm_wv.sav', 'rb'))\n",
    "# print metrics\n",
    "print(f\"SVM with word2vec features:\")\n",
    "print(metrics.classification_report(y_test, y_pred_wv))"
   ]
  },
  {
   "cell_type": "markdown",
   "metadata": {},
   "source": [
    "**Using GloVe v.2**  \n",
    "Just expand `base_model` vocab with glove"
   ]
  },
  {
   "cell_type": "code",
   "execution_count": 40,
   "metadata": {},
   "outputs": [],
   "source": [
    "# try without training on tweets\n",
    "base_model2 = gm.Word2Vec(tweets_ls, vector_size=200, min_count=1, workers=4)\n",
    "# ran in 1.4 seconds\n",
    "base_model2.build_vocab(tweets_ls)\n",
    "base_model2.build_vocab([glove_vec.index_to_key], update=True)"
   ]
  },
  {
   "cell_type": "code",
   "execution_count": 43,
   "metadata": {},
   "outputs": [
    {
     "data": {
      "text/plain": [
       "[('thought', 0.988355278968811),\n",
       " ('video', 0.9881336688995361),\n",
       " ('biib', 0.9877603054046631),\n",
       " ('hands', 0.98773592710495),\n",
       " ('Birth', 0.987488865852356),\n",
       " ('other', 0.9874578714370728),\n",
       " ('lithium', 0.987389326095581),\n",
       " ('card', 0.9873044490814209),\n",
       " ('tenofovir', 0.9871808886528015),\n",
       " ('easy', 0.9870908260345459)]"
      ]
     },
     "execution_count": 43,
     "metadata": {},
     "output_type": "execute_result"
    }
   ],
   "source": [
    "base_model_wv2 = base_model2.wv\n",
    "base_model_wv2.most_similar('drug')\n",
    "# still bad :("
   ]
  },
  {
   "cell_type": "code",
   "execution_count": null,
   "metadata": {},
   "outputs": [],
   "source": [
    "# transform train and test data\n",
    "train_wv2 = tweet_to_wv(X_train, base_model_wv2)\n",
    "test_wv2 = tweet_to_wv(X_test, base_model_wv2)"
   ]
  },
  {
   "cell_type": "code",
   "execution_count": null,
   "metadata": {},
   "outputs": [],
   "source": [
    "# SVM with model trained on tweets\n",
    "# linear kernel\n",
    "svm_wv2 = SVC(kernel='linear', class_weight='balanced', random_state=691)\n",
    "# fit\n",
    "svm_wv2.fit(train_wv2, y_train)\n",
    "y_pred_wv2 = svm_wv.predict(test_wv2)"
   ]
  },
  {
   "cell_type": "code",
   "execution_count": null,
   "metadata": {},
   "outputs": [],
   "source": [
    "print(f\"SVM with word2vec features but no training on tweets:\")\n",
    "print(metrics.classification_report(y_test, y_pred_wv2))"
   ]
  },
  {
   "cell_type": "markdown",
   "metadata": {},
   "source": [
    "**Using GloVe v.3**  \n",
    "Foregoing `base_model` all together and just using glove_vec out of the box to transform tweets"
   ]
  },
  {
   "cell_type": "code",
   "execution_count": 47,
   "metadata": {},
   "outputs": [],
   "source": [
    "# this function only looks at glove vectors\n",
    "\n",
    "# transform train and test data ~ 1.5hr\n",
    "train_glove = tweet_to_wv(X_train, glove_vec)\n",
    "test_glove = tweet_to_wv(X_test, glove_vec)"
   ]
  },
  {
   "cell_type": "code",
   "execution_count": null,
   "metadata": {},
   "outputs": [],
   "source": [
    "# SVM with model trained on tweets\n",
    "# linear kernel\n",
    "svm_glove = SVC(kernel='linear', class_weight='balanced', random_state=691)\n",
    "# fit\n",
    "svm_glove.fit(train_glove, y_train)\n",
    "y_pred_glove = svm_wv.predict(test_glove)"
   ]
  },
  {
   "cell_type": "code",
   "execution_count": null,
   "metadata": {},
   "outputs": [],
   "source": [
    "# save model\n",
    "# filename = '../data/svm_wv.sav'\n",
    "# pickle.dump(svm_wv, open(filename, 'wb'))\n",
    "# open model\n",
    "# pickle.load(open('../data/svm_wv.sav', 'rb'))\n",
    "# print metrics\n",
    "print(f\"SVM with glove features:\")\n",
    "print(metrics.classification_report(y_test, y_pred_glove))"
   ]
  },
  {
   "cell_type": "code",
   "execution_count": 50,
   "metadata": {},
   "outputs": [],
   "source": [
    "# SVM with model using just glove vectors\n",
    "# linear kernel\n",
    "svm_wv = SVC(kernel='linear', class_weight='balanced', random_state=691)\n",
    "# fit\n",
    "svm_wv.fit(train_wv2, y_train)\n",
    "y_pred_wv2 = svm_wv.predict(test_wv2)"
   ]
  },
  {
   "cell_type": "markdown",
   "metadata": {},
   "source": [
    "*SVM classifier with rbf kernel*"
   ]
  },
  {
   "cell_type": "code",
   "execution_count": null,
   "metadata": {},
   "outputs": [],
   "source": [
    "svm_wv_rbf = SVC(kernel='rbf', class_weight='balanced', random_state=691)\n",
    "# fit\n",
    "svm_wv_rbf.fit(train_wv, y_train)\n",
    "y_pred_wv_rbf = svm_wv_rbf.predict(test_wv)\n",
    "# save model\n",
    "filename = 'DSCI691-GRP-PICKLE_RICK/Project/svm_wv_rbf.sav'\n",
    "pickle.dump(svm_wv_rbf, open(filename, 'wb'))\n",
    "# print metrics\n",
    "print(f\"SVM with word2vec features and rbf kernel:\")\n",
    "print(metrics.classification_report(y_test, y_pred_wv_rbf))"
   ]
  },
  {
   "cell_type": "markdown",
   "metadata": {},
   "source": [
    "*SVM classifier with rbf kernel + grid search*"
   ]
  },
  {
   "cell_type": "code",
   "execution_count": null,
   "metadata": {},
   "outputs": [],
   "source": [
    "parameters = {\n",
    "    'C' : [0.1, 1, 10],\n",
    "    'gamma' : [1, 'auto', 'scale']\n",
    "}\n",
    "svm_wv_rbf2 = GridSearchCV(SVC(kernel='rbf', class_weight='balanced', random_state=691), parameters, cv=5)\n",
    "# fit\n",
    "svm_wv_rbf2.fit(train_wv, y_train)\n",
    "y_pred_wv_rbf2 = svm_wv_rbf2.predict(test_wv)\n",
    "# save model\n",
    "filename = 'DSCI691-GRP-PICKLE_RICK/Project/svm_wv_rbf2.sav'\n",
    "pickle.dump(svm_wv_rbf2, open(filename, 'wb'))\n",
    "# print metrics\n",
    "print(f\"SVM with word2vec features and rbf kernel and gridsearch:\")\n",
    "print(metrics.classification_report(y_test, y_pred_wv_rbf2))"
   ]
  },
  {
   "cell_type": "code",
   "execution_count": 52,
   "metadata": {},
   "outputs": [],
   "source": [
    "parameters = {\n",
    "    'C' : [0.1, 1, 10],\n",
    "    'gamma' : [1, 'auto', 'scale']\n",
    "}\n",
    "svm_gs = GridSearchCV(SVC(kernel='linear', class_weight='balanced', random_state=691), parameters, cv=5)\n",
    "# fit\n",
    "svm_gs.fit(train_wv2, y_train)\n",
    "y_pred_gs = svm_gs.predict(test_wv2)\n"
   ]
  },
  {
   "cell_type": "code",
   "execution_count": 53,
   "metadata": {},
   "outputs": [
    {
     "name": "stdout",
     "output_type": "stream",
     "text": [
      "SVM with glove features and linear kernel and gridsearch:\n",
      "              precision    recall  f1-score   support\n",
      "\n",
      "           0       0.97      0.66      0.78      3182\n",
      "           1       0.14      0.72      0.23       242\n",
      "\n",
      "    accuracy                           0.66      3424\n",
      "   macro avg       0.55      0.69      0.51      3424\n",
      "weighted avg       0.91      0.66      0.74      3424\n",
      "\n"
     ]
    }
   ],
   "source": [
    "# save model\n",
    "# filename = 'DSCI691-GRP-PICKLE_RICK/Project/svm_wv_rbf2.sav'\n",
    "# pickle.dump(svm_wv_rbf2, open(filename, 'wb'))\n",
    "# print metrics\n",
    "print(f\"SVM with glove features and linear kernel and gridsearch:\")\n",
    "print(metrics.classification_report(y_test, y_pred_gs))"
   ]
  }
 ],
 "metadata": {
  "interpreter": {
   "hash": "aee8b7b246df8f9039afb4144a1f6fd8d2ca17a180786b69acc140d282b71a49"
  },
  "kernelspec": {
   "display_name": "Python 3.8.3 64-bit",
   "language": "python",
   "name": "python3"
  },
  "language_info": {
   "name": "python",
   "version": "3.8.3"
  },
  "orig_nbformat": 4
 },
 "nbformat": 4,
 "nbformat_minor": 2
}
